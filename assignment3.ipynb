{
 "cells": [
  {
   "cell_type": "code",
   "execution_count": 2,
   "id": "e2715fe8-7a90-4fab-8631-7faddef671fa",
   "metadata": {},
   "outputs": [
    {
     "name": "stdout",
     "output_type": "stream",
     "text": [
      "[('Jack Kallis', 25534), ('Ricky Ponting', 27483), ('Sachin Tendulkar', 34357), ('Virat Kohli', 24936)]\n"
     ]
    }
   ],
   "source": [
    "# Question 1\n",
    "l1=[('Sachin Tendulkar', 34357), ('Ricky Ponting', 27483), ('Jack Kallis', 25534), ('Virat Kohli', 24936)]\n",
    "sorted_list = sorted(l1, key=lambda x: x[0])\n",
    "print(sorted_list)"
   ]
  },
  {
   "cell_type": "code",
   "execution_count": 3,
   "id": "0bb6704f-b95d-40db-8fa2-f6a9e358dd78",
   "metadata": {},
   "outputs": [
    {
     "data": {
      "text/plain": [
       "[1, 4, 9, 16, 25, 36, 49, 64, 81, 100]"
      ]
     },
     "execution_count": 3,
     "metadata": {},
     "output_type": "execute_result"
    }
   ],
   "source": [
    "#Question 2\n",
    "l2=[1, 2, 3, 4, 5, 6, 7, 8, 9, 10]\n",
    "list(map(lambda x: x**2,l2))\n"
   ]
  },
  {
   "cell_type": "code",
   "execution_count": 5,
   "id": "eecb8b52-ea55-4472-8ece-254e8213ec36",
   "metadata": {},
   "outputs": [
    {
     "data": {
      "text/plain": [
       "('1', '2', '3', '4', '5', '6', '7', '8', '9', '10')"
      ]
     },
     "execution_count": 5,
     "metadata": {},
     "output_type": "execute_result"
    }
   ],
   "source": [
    "# Question 3\n",
    "l3=[1, 2, 3, 4, 5, 6, 7, 8, 9, 10]\n",
    "tuple(map(lambda x:str(x),l3))"
   ]
  },
  {
   "cell_type": "code",
   "execution_count": 8,
   "id": "0700edb8-2dc4-4d4f-8a1a-f4a2b79e57b3",
   "metadata": {},
   "outputs": [
    {
     "name": "stdout",
     "output_type": "stream",
     "text": [
      "Product of the list:  15511210043330985984000000\n"
     ]
    }
   ],
   "source": [
    "# question 4\n",
    "from functools import reduce\n",
    "def multiply(a,b):\n",
    "    return a*b\n",
    "numbers=list(range(1,26))\n",
    "product = reduce(multiply, numbers)\n",
    "print(\"Product of the list: \", product)"
   ]
  },
  {
   "cell_type": "code",
   "execution_count": 11,
   "id": "9ec51f35-8f9e-4c73-b4da-1b94f229d769",
   "metadata": {},
   "outputs": [
    {
     "data": {
      "text/plain": [
       "[6, 60, 90, 120]"
      ]
     },
     "execution_count": 11,
     "metadata": {},
     "output_type": "execute_result"
    }
   ],
   "source": [
    "# Question 5\n",
    "from functools import reduce\n",
    "l4=[2, 3, 6, 9, 27, 60, 90, 120, 55, 46]\n",
    "list(filter(lambda x:x if x%2==0 and x%3==0 else 0 ,l4))"
   ]
  },
  {
   "cell_type": "code",
   "execution_count": null,
   "id": "bed73337-9664-4d4e-b83f-adfeb002c7a2",
   "metadata": {},
   "outputs": [],
   "source": [
    "# Question 6\n",
    "# Function to check if a string is a palindrome\n",
    "is_palindrome = lambda s: s == s[::-1]\n",
    "\n",
    "# List of strings\n",
    "strings = [\"hello\", \"world\", \"madam\", \"python\", \"racecar\", \"level\", \"openai\", \"radar\"]\n",
    "\n",
    "# Filter out non-palindromic strings from the list\n",
    "palindromes = list(filter(is_palindrome, strings))\n",
    "\n",
    "# Print the list of palindromes\n",
    "print(\"Palindromes in the list: \")\n",
    "for palindrome in palindromes:\n",
    "    print(palindrome)\n",
    "In this program, we define a lambda function is_palindrome that takes a string s and checks if it is a palindrome by comparing it with its reverse. Then, we use the filter() function to filter out the non-palindromic strings from the given list strings, and store the result in a list called palindromes. Finally, we print the list of palindromes using a for loop.\n",
    "\n",
    "Save\n",
    "\n",
    "\n",
    "\n",
    "\n"
   ]
  }
 ],
 "metadata": {
  "kernelspec": {
   "display_name": "Python 3 (ipykernel)",
   "language": "python",
   "name": "python3"
  },
  "language_info": {
   "codemirror_mode": {
    "name": "ipython",
    "version": 3
   },
   "file_extension": ".py",
   "mimetype": "text/x-python",
   "name": "python",
   "nbconvert_exporter": "python",
   "pygments_lexer": "ipython3",
   "version": "3.10.8"
  }
 },
 "nbformat": 4,
 "nbformat_minor": 5
}
